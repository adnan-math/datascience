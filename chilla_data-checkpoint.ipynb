{
 "cells": [
  {
   "cell_type": "markdown",
   "id": "34bb602e",
   "metadata": {},
   "source": [
    "# Impport necessary libraries for plotting"
   ]
  },
  {
   "cell_type": "code",
   "execution_count": 10,
   "id": "1e547390",
   "metadata": {},
   "outputs": [],
   "source": [
    "import pandas as pd\n",
    "import numpy as np\n",
    "import matplotlib.pyplot as plt\n",
    "import plotly.express as px\n",
    "import seaborn as sns"
   ]
  },
  {
   "cell_type": "code",
   "execution_count": 104,
   "id": "200f8fd5",
   "metadata": {
    "scrolled": true
   },
   "outputs": [
    {
     "data": {
      "text/html": [
       "<div>\n",
       "<style scoped>\n",
       "    .dataframe tbody tr th:only-of-type {\n",
       "        vertical-align: middle;\n",
       "    }\n",
       "\n",
       "    .dataframe tbody tr th {\n",
       "        vertical-align: top;\n",
       "    }\n",
       "\n",
       "    .dataframe thead th {\n",
       "        text-align: right;\n",
       "    }\n",
       "</style>\n",
       "<table border=\"1\" class=\"dataframe\">\n",
       "  <thead>\n",
       "    <tr style=\"text-align: right;\">\n",
       "      <th></th>\n",
       "      <th>Gender</th>\n",
       "      <th>Location</th>\n",
       "      <th>Age</th>\n",
       "      <th>Qualification_completed</th>\n",
       "      <th>field_of_study</th>\n",
       "      <th>Purpose_for_chilla</th>\n",
       "      <th>What are you?</th>\n",
       "      <th>Blood group</th>\n",
       "      <th>Which mobile sim do you use</th>\n",
       "      <th>Prepaid or Postpaid</th>\n",
       "      <th>...</th>\n",
       "      <th>Your favorite programming language?</th>\n",
       "      <th>Marital Status?</th>\n",
       "      <th>Are you Vaccinated?</th>\n",
       "      <th>Where do you live?</th>\n",
       "      <th>research experience</th>\n",
       "      <th>age</th>\n",
       "      <th>weight</th>\n",
       "      <th>Height</th>\n",
       "      <th>coding hours</th>\n",
       "      <th>Light shutdown</th>\n",
       "    </tr>\n",
       "  </thead>\n",
       "  <tbody>\n",
       "    <tr>\n",
       "      <th>0</th>\n",
       "      <td>Male</td>\n",
       "      <td>Pakistan</td>\n",
       "      <td>36-40</td>\n",
       "      <td>Masters</td>\n",
       "      <td>Natural Sciences</td>\n",
       "      <td>to boost my skill set</td>\n",
       "      <td>Unemplyed</td>\n",
       "      <td>B+</td>\n",
       "      <td>U-fone</td>\n",
       "      <td>Prepaid</td>\n",
       "      <td>...</td>\n",
       "      <td>Python</td>\n",
       "      <td>Yes</td>\n",
       "      <td>Yes</td>\n",
       "      <td>Urbun</td>\n",
       "      <td>5.0</td>\n",
       "      <td>38.00</td>\n",
       "      <td>77.0</td>\n",
       "      <td>179.000</td>\n",
       "      <td>3.0</td>\n",
       "      <td>2</td>\n",
       "    </tr>\n",
       "    <tr>\n",
       "      <th>1</th>\n",
       "      <td>Male</td>\n",
       "      <td>Pakistan</td>\n",
       "      <td>26-30</td>\n",
       "      <td>Bachelors</td>\n",
       "      <td>CS/IT</td>\n",
       "      <td>to boost my skill set</td>\n",
       "      <td>Student</td>\n",
       "      <td>B+</td>\n",
       "      <td>U-fone</td>\n",
       "      <td>Prepaid</td>\n",
       "      <td>...</td>\n",
       "      <td>Python</td>\n",
       "      <td>No</td>\n",
       "      <td>Yes</td>\n",
       "      <td>Urbun</td>\n",
       "      <td>1.0</td>\n",
       "      <td>25.00</td>\n",
       "      <td>53.6</td>\n",
       "      <td>178.000</td>\n",
       "      <td>2.0</td>\n",
       "      <td>6</td>\n",
       "    </tr>\n",
       "    <tr>\n",
       "      <th>2</th>\n",
       "      <td>Male</td>\n",
       "      <td>Pakistan</td>\n",
       "      <td>31-35</td>\n",
       "      <td>Masters</td>\n",
       "      <td>Enginnering</td>\n",
       "      <td>Switch my field of study</td>\n",
       "      <td>Employed</td>\n",
       "      <td>B+</td>\n",
       "      <td>Zong</td>\n",
       "      <td>Prepaid</td>\n",
       "      <td>...</td>\n",
       "      <td>Python</td>\n",
       "      <td>Yes</td>\n",
       "      <td>Yes</td>\n",
       "      <td>Urbun</td>\n",
       "      <td>5.5</td>\n",
       "      <td>31.34</td>\n",
       "      <td>93.0</td>\n",
       "      <td>173.000</td>\n",
       "      <td>2.0</td>\n",
       "      <td>0</td>\n",
       "    </tr>\n",
       "    <tr>\n",
       "      <th>3</th>\n",
       "      <td>Female</td>\n",
       "      <td>Pakistan</td>\n",
       "      <td>31-35</td>\n",
       "      <td>Masters</td>\n",
       "      <td>CS/IT</td>\n",
       "      <td>to boost my skill set</td>\n",
       "      <td>Employed</td>\n",
       "      <td>O+</td>\n",
       "      <td>U-fone</td>\n",
       "      <td>Postpaid</td>\n",
       "      <td>...</td>\n",
       "      <td>Python</td>\n",
       "      <td>Yes</td>\n",
       "      <td>Yes</td>\n",
       "      <td>Urbun</td>\n",
       "      <td>5.0</td>\n",
       "      <td>33.00</td>\n",
       "      <td>60.0</td>\n",
       "      <td>157.000</td>\n",
       "      <td>3.0</td>\n",
       "      <td>24</td>\n",
       "    </tr>\n",
       "    <tr>\n",
       "      <th>4</th>\n",
       "      <td>Female</td>\n",
       "      <td>Pakistan</td>\n",
       "      <td>26-30</td>\n",
       "      <td>Masters</td>\n",
       "      <td>Enginnering</td>\n",
       "      <td>to boost my skill set</td>\n",
       "      <td>Student</td>\n",
       "      <td>A-</td>\n",
       "      <td>Mobilink</td>\n",
       "      <td>Prepaid</td>\n",
       "      <td>...</td>\n",
       "      <td>Javascript</td>\n",
       "      <td>No</td>\n",
       "      <td>Yes</td>\n",
       "      <td>Rural</td>\n",
       "      <td>3.5</td>\n",
       "      <td>27.00</td>\n",
       "      <td>59.9</td>\n",
       "      <td>164.544</td>\n",
       "      <td>6.0</td>\n",
       "      <td>12</td>\n",
       "    </tr>\n",
       "  </tbody>\n",
       "</table>\n",
       "<p>5 rows × 23 columns</p>\n",
       "</div>"
      ],
      "text/plain": [
       "   Gender  Location    Age Qualification_completed    field_of_study  \\\n",
       "0    Male  Pakistan  36-40                 Masters  Natural Sciences   \n",
       "1    Male  Pakistan  26-30               Bachelors             CS/IT   \n",
       "2    Male  Pakistan  31-35                 Masters       Enginnering   \n",
       "3  Female  Pakistan  31-35                 Masters             CS/IT   \n",
       "4  Female  Pakistan  26-30                 Masters       Enginnering   \n",
       "\n",
       "         Purpose_for_chilla What are you? Blood group   \\\n",
       "0     to boost my skill set     Unemplyed           B+   \n",
       "1     to boost my skill set       Student           B+   \n",
       "2  Switch my field of study      Employed           B+   \n",
       "3     to boost my skill set      Employed           O+   \n",
       "4     to boost my skill set       Student           A-   \n",
       "\n",
       "  Which mobile sim do you use Prepaid or Postpaid  ...  \\\n",
       "0                      U-fone             Prepaid  ...   \n",
       "1                      U-fone             Prepaid  ...   \n",
       "2                        Zong             Prepaid  ...   \n",
       "3                      U-fone            Postpaid  ...   \n",
       "4                    Mobilink             Prepaid  ...   \n",
       "\n",
       "  Your favorite programming language? Marital Status? Are you Vaccinated?  \\\n",
       "0                              Python             Yes                 Yes   \n",
       "1                              Python              No                 Yes   \n",
       "2                              Python             Yes                 Yes   \n",
       "3                              Python             Yes                 Yes   \n",
       "4                          Javascript              No                 Yes   \n",
       "\n",
       "  Where do you live? research experience    age weight  Height   coding hours  \\\n",
       "0              Urbun                 5.0  38.00   77.0  179.000           3.0   \n",
       "1              Urbun                 1.0  25.00   53.6  178.000           2.0   \n",
       "2              Urbun                 5.5  31.34   93.0  173.000           2.0   \n",
       "3              Urbun                 5.0  33.00   60.0  157.000           3.0   \n",
       "4              Rural                 3.5  27.00   59.9  164.544           6.0   \n",
       "\n",
       "   Light shutdown  \n",
       "0               2  \n",
       "1               6  \n",
       "2               0  \n",
       "3              24  \n",
       "4              12  \n",
       "\n",
       "[5 rows x 23 columns]"
      ]
     },
     "execution_count": 104,
     "metadata": {},
     "output_type": "execute_result"
    }
   ],
   "source": [
    "chilla=pd.read_csv(\"Chilla_data2_for_plots .csv\")\n",
    "chilla.head()"
   ]
  },
  {
   "cell_type": "code",
   "execution_count": 3,
   "id": "49b96515",
   "metadata": {},
   "outputs": [
    {
     "data": {
      "text/plain": [
       "Text(0.5, 1.0, 'Weight bar graph ')"
      ]
     },
     "execution_count": 3,
     "metadata": {},
     "output_type": "execute_result"
    },
    {
     "data": {
      "image/png": "[encoded data removed]",
      "text/plain": [
       "<Figure size 640x480 with 1 Axes>"
      ]
     },
     "metadata": {},
     "output_type": "display_data"
    }
   ],
   "source": [
    "plt.style.use('classic')\n",
    "sns.barplot(x=\"Gender\",y=\"weight\",data=chilla,hue=\"Age\")\n",
    "plt.title(\"Weight bar graph \")"
   ]
  },
  {
   "cell_type": "code",
   "execution_count": null,
   "id": "32cbe604",
   "metadata": {},
   "outputs": [],
   "source": [
    "colors = sns.color_palette('pastel')[0:5]\n",
    "plt.pie(research experience)"
   ]
  },
  {
   "cell_type": "code",
   "execution_count": 4,
   "id": "cd964800",
   "metadata": {
    "scrolled": false
   },
   "outputs": [
    {
     "data": {
      "text/plain": [
       "<AxesSubplot:xlabel='Marital Status?', ylabel='Light shutdown'>"
      ]
     },
     "execution_count": 4,
     "metadata": {},
     "output_type": "execute_result"
    },
    {
     "data": {
      "image/png": "[encoded data removed]",
      "text/plain": [
       "<Figure size 640x480 with 1 Axes>"
      ]
     },
     "metadata": {},
     "output_type": "display_data"
    }
   ],
   "source": [
    "sns.barplot(x=\"Marital Status?\",y=\"Light shutdown\",hue=\"Gender\",data=chilla)"
   ]
  },
  {
   "cell_type": "code",
   "execution_count": 43,
   "id": "a3cfc913",
   "metadata": {},
   "outputs": [],
   "source": [
    "arr1=np.array([chilla.Qualification_completed])"
   ]
  },
  {
   "cell_type": "markdown",
   "id": "5c19940a",
   "metadata": {},
   "source": [
    "## numpy vectorize function\n",
    "The vectorize function is provided primarily for convenience, not for performance. The implementation is essentially a for loop."
   ]
  },
  {
   "cell_type": "markdown",
   "id": "e326b25f",
   "metadata": {},
   "source": [
    "## Python Lambda function\n",
    "- A lambda function is a small anonymous function.\n",
    "\n",
    "- A lambda function can take any number of arguments, but can only have one expression.\n",
    "\n",
    "x = lambda a : a + 10\n",
    "\n",
    "print(x(5))\n",
    "\n",
    "or\n",
    "\n",
    "Multiply argument a with argument b and return the result:\n",
    "\n",
    "x = lambda a, b : a * b\n",
    "\n",
    "print(x(5, 6))"
   ]
  },
  {
   "cell_type": "code",
   "execution_count": 45,
   "id": "e25fc091",
   "metadata": {},
   "outputs": [],
   "source": [
    "first_3letter=np.vectorize(lambda s: s[0:3])(arr1)==\"PhD\"\n",
    "phd=arr1[first_3letter]"
   ]
  },
  {
   "cell_type": "code",
   "execution_count": 46,
   "id": "6c0ea9cf",
   "metadata": {
    "scrolled": true
   },
   "outputs": [],
   "source": [
    "first_3letter=np.vectorize(lambda s: s[0:3])(arr1)==\"Pre\"\n",
    "pre=arr1[first_3letter]"
   ]
  },
  {
   "cell_type": "code",
   "execution_count": 47,
   "id": "77279b12",
   "metadata": {},
   "outputs": [],
   "source": [
    "first_3letter=np.vectorize(lambda s: s[0:3])(arr1)==\"Mas\"\n",
    "mas=arr1[first_3letter]"
   ]
  },
  {
   "cell_type": "code",
   "execution_count": 48,
   "id": "58c203d2",
   "metadata": {},
   "outputs": [],
   "source": [
    "first_3letter=np.vectorize(lambda s: s[0:3])(arr1)==\"Bac\"\n",
    "bac=arr1[first_3letter]"
   ]
  },
  {
   "cell_type": "code",
   "execution_count": 49,
   "id": "cabd2e5f",
   "metadata": {},
   "outputs": [
    {
     "data": {
      "text/plain": [
       "array([ 28, 169, 133,  45])"
      ]
     },
     "execution_count": 49,
     "metadata": {},
     "output_type": "execute_result"
    }
   ],
   "source": [
    "total_arr=np.array([phd.size,mas.size,bac.size,pre.size])\n",
    "total_arr"
   ]
  },
  {
   "cell_type": "code",
   "execution_count": 50,
   "id": "f77891f8",
   "metadata": {},
   "outputs": [],
   "source": [
    "degree=np.array([\"PhD\",\"Master\",\"Bachelors\",\"Pre-Bachelor\"])"
   ]
  },
  {
   "cell_type": "code",
   "execution_count": 61,
   "id": "9c170dc0",
   "metadata": {
    "scrolled": false
   },
   "outputs": [
    {
     "data": {
      "image/png": "[encoded data removed]",
      "text/plain": [
       "<Figure size 640x480 with 1 Axes>"
      ]
     },
     "metadata": {},
     "output_type": "display_data"
    }
   ],
   "source": [
    "colors=['lime', 'limegreen', 'yellow', 'orange']\n",
    "plt.pie(total_arr, labels = degree, autopct='%1.1f%%',colors=colors)\n",
    "plt.title(\"Enrolled students in \"Python ka chilla, a short course \") \n",
    "plt.show()"
   ]
  },
  {
   "cell_type": "code",
   "execution_count": 107,
   "id": "1f8c354a",
   "metadata": {},
   "outputs": [
    {
     "data": {
      "application/vnd.plotly.v1+json": {
       "config": {
        "plotlyServerURL": "https://plot.ly"
       },
       "data": [
        {
         "alignmentgroup": "True",
         "bingroup": "x",
         "hovertemplate": "Age=%{x}<br>count=%{y}<extra></extra>",
         "legendgroup": "",
         "marker": {
          "color": "magenta",
          "pattern": {
           "shape": ""
          }
         },
         "name": "",
         "offsetgroup": "",
         "orientation": "v",
         "showlegend": false,
         "type": "histogram",
         "x": [
          "36-40",
          "26-30",
          "31-35",
          "31-35",
          "26-30",
          "36-40",
          "21-25",
          "26-30",
          "21-25",
          "21-25",
          "21-25",
          "26-30",
          "26-30",
          "21-25",
          "21-25",
          "21-25",
          "31-35",
          "31-35",
          "26-30",
          "21-25",
          "31-35",
          "31-35",
          "21-25",
          "21-25",
          "26-30",
          "21-25",
          "26-30",
          "21-25",
          "31-35",
          "31-35",
          "26-30",
          "26-30",
          "26-30",
          "31-35",
          "26-30",
          "21-25",
          "21-25",
          "21-25",
          "26-30",
          "26-30",
          "31-35",
          "31-35",
          "31-35",
          "21-25",
          "26-30",
          "31-35",
          "26-30",
          "31-35",
          "26-30",
          "26-30",
          "16-20",
          "26-30",
          "26-30",
          "21-25",
          "36-40",
          "36-40",
          "31-35",
          "31-35",
          "31-35",
          "26-30",
          "21-25",
          "31-35",
          "21-25",
          "26-30",
          "26-30",
          "26-30",
          "26-30",
          "16-20",
          "26-30",
          "21-25",
          "31-35",
          "31-35",
          "36-40",
          "26-30",
          "26-30",
          "31-35",
          "21-25",
          "21-25",
          "21-25",
          "16-20",
          "21-25",
          "21-25",
          "26-30",
          "26-30",
          "16-20",
          "21-25",
          "21-25",
          "16-20",
          "26-30",
          "21-25",
          "31-35",
          "31-35",
          "26-30",
          "26-30",
          "26-30",
          "31-35",
          "21-25",
          "26-30",
          "41-45",
          "41-45",
          "26-30",
          "21-25",
          "21-25",
          "21-25",
          "21-25",
          "16-20",
          "26-30",
          "21-25",
          "41-45",
          "21-25",
          "21-25",
          "26-30",
          "21-25",
          "26-30",
          "26-30",
          "26-30",
          "26-30",
          "41-45",
          "36-40",
          "26-30",
          "26-30",
          "26-30",
          "36-40",
          "26-30",
          "41-45",
          "41-45",
          "26-30",
          "21-25",
          "21-25",
          "26-30",
          "21-25",
          "26-30",
          "26-30",
          "36-40",
          "31-35",
          "31-35",
          "16-20",
          "26-30",
          "26-30",
          "26-30",
          "26-30",
          "21-25",
          "31-35",
          "26-30",
          "21-25",
          "21-25",
          "26-30",
          "21-25",
          "31-35",
          "46-60",
          "26-30",
          "31-35",
          "26-30",
          "31-35",
          "21-25",
          "26-30",
          "31-35",
          "21-25",
          "21-25",
          "26-30",
          "26-30",
          "21-25",
          "26-30",
          "26-30",
          "21-25",
          "21-25",
          "31-35",
          "31-35",
          "21-25",
          "26-30",
          "26-30",
          "26-30",
          "21-25",
          "26-30",
          "31-35",
          "26-30",
          "21-25",
          "26-30",
          "21-25",
          "21-25",
          "31-35",
          "16-20",
          "26-30",
          "26-30",
          "26-30",
          "31-35",
          "31-35",
          "21-25",
          "21-25",
          "16-20",
          "31-35",
          "31-35",
          "16-20",
          "21-25",
          "26-30",
          "21-25",
          "21-25",
          "26-30",
          "31-35",
          "31-35",
          "16-20",
          "21-25",
          "21-25",
          "36-40",
          "21-25",
          "26-30",
          "26-30",
          "26-30",
          "26-30",
          "26-30",
          "31-35",
          "36-40",
          "26-30",
          "26-30",
          "31-35",
          "21-25",
          "26-30",
          "21-25",
          "21-25",
          "21-25",
          "21-25",
          "16-20",
          "26-30",
          "26-30",
          "16-20",
          "21-25",
          "21-25",
          "21-25",
          "26-30",
          "26-30",
          "21-25",
          "21-25",
          "26-30",
          "26-30",
          "31-35",
          "26-30",
          "21-25",
          "26-30",
          "31-35",
          "21-25",
          "31-35",
          "26-30",
          "21-25",
          "26-30",
          "26-30",
          "31-35",
          "21-25",
          "26-30",
          "21-25",
          "21-25",
          "16-20",
          "21-25",
          "21-25",
          "21-25",
          "21-25",
          "31-35",
          "31-35",
          "26-30",
          "26-30",
          "21-25",
          "31-35",
          "31-35",
          "31-35",
          "36-40",
          "21-25",
          "21-25",
          "21-25",
          "21-25",
          "31-35",
          "46-60",
          "26-30",
          "21-25",
          "21-25",
          "31-35",
          "21-25",
          "31-35",
          "16-20",
          "21-25",
          "46-60",
          "26-30",
          "21-25",
          "36-40",
          "26-30",
          "21-25",
          "21-25",
          "21-25",
          "31-35",
          "21-25",
          "31-35",
          "41-45",
          "21-25",
          "21-25",
          "26-30",
          "31-35",
          "21-25",
          "26-30",
          "31-35",
          "26-30",
          "41-45",
          "26-30",
          "31-35",
          "21-25",
          "31-35",
          "26-30",
          "26-30",
          "31-35",
          "26-30",
          "26-30",
          "31-35",
          "26-30",
          "26-30",
          "36-40",
          "26-30",
          "26-30",
          "26-30",
          "31-35",
          "31-35",
          "21-25",
          "26-30",
          "21-25",
          "21-25",
          "31-35",
          "31-35",
          "26-30",
          "31-35",
          "26-30",
          "26-30",
          "21-25",
          "36-40",
          "41-45",
          "21-25",
          "16-20",
          "26-30",
          "21-25",
          "31-35",
          "21-25",
          "21-25",
          "26-30",
          "31-35",
          "26-30",
          "16-20",
          "31-35",
          "31-35",
          "26-30",
          "26-30",
          "26-30",
          "31-35",
          "16-20",
          "26-30",
          "26-30",
          "36-40",
          "31-35",
          "26-30",
          "36-40",
          "26-30",
          "21-25",
          "26-30",
          "31-35",
          "16-20",
          "26-30",
          "31-35",
          "26-30",
          "21-25",
          "26-30",
          "26-30",
          "26-30",
          "21-25",
          "21-25",
          "26-30",
          "21-25",
          "26-30",
          "31-35",
          "21-25",
          "26-30",
          "31-35"
         ],
         "xaxis": "x",
         "yaxis": "y"
        }
       ],
       "layout": {
        "barmode": "relative",
        "legend": {
         "tracegroupgap": 0
        },
        "margin": {
         "t": 60
        },
        "template": {
         "data": {
          "bar": [
           {
            "error_x": {
             "color": "#2a3f5f"
            },
            "error_y": {
             "color": "#2a3f5f"
            },
            "marker": {
             "line": {
              "color": "#E5ECF6",
              "width": 0.5
             },
             "pattern": {
              "fillmode": "overlay",
              "size": 10,
              "solidity": 0.2
             }
            },
            "type": "bar"
           }
          ],
          "barpolar": [
           {
            "marker": {
             "line": {
              "color": "#E5ECF6",
              "width": 0.5
             },
             "pattern": {
              "fillmode": "overlay",
              "size": 10,
              "solidity": 0.2
             }
            },
            "type": "barpolar"
           }
          ],
          "carpet": [
           {
            "aaxis": {
             "endlinecolor": "#2a3f5f",
             "gridcolor": "white",
             "linecolor": "white",
             "minorgridcolor": "white",
             "startlinecolor": "#2a3f5f"
            },
            "baxis": {
             "endlinecolor": "#2a3f5f",
             "gridcolor": "white",
             "linecolor": "white",
             "minorgridcolor": "white",
             "startlinecolor": "#2a3f5f"
            },
            "type": "carpet"
           }
          ],
          "choropleth": [
           {
            "colorbar": {
             "outlinewidth": 0,
             "ticks": ""
            },
            "type": "choropleth"
           }
          ],
          "contour": [
           {
            "colorbar": {
             "outlinewidth": 0,
             "ticks": ""
            },
            "colorscale": [
             [
              0,
              "#0d0887"
             ],
             [
              0.1111111111111111,
              "#46039f"
             ],
             [
              0.2222222222222222,
              "#7201a8"
             ],
             [
              0.3333333333333333,
              "#9c179e"
             ],
             [
              0.4444444444444444,
              "#bd3786"
             ],
             [
              0.5555555555555556,
              "#d8576b"
             ],
             [
              0.6666666666666666,
              "#ed7953"
             ],
             [
              0.7777777777777778,
              "#fb9f3a"
             ],
             [
              0.8888888888888888,
              "#fdca26"
             ],
             [
              1,
              "#f0f921"
             ]
            ],
            "type": "contour"
           }
          ],
          "contourcarpet": [
           {
            "colorbar": {
             "outlinewidth": 0,
             "ticks": ""
            },
            "type": "contourcarpet"
           }
          ],
          "heatmap": [
           {
            "colorbar": {
             "outlinewidth": 0,
             "ticks": ""
            },
            "colorscale": [
             [
              0,
              "#0d0887"
             ],
             [
              0.1111111111111111,
              "#46039f"
             ],
             [
              0.2222222222222222,
              "#7201a8"
             ],
             [
              0.3333333333333333,
              "#9c179e"
             ],
             [
              0.4444444444444444,
              "#bd3786"
             ],
             [
              0.5555555555555556,
              "#d8576b"
             ],
             [
              0.6666666666666666,
              "#ed7953"
             ],
             [
              0.7777777777777778,
              "#fb9f3a"
             ],
             [
              0.8888888888888888,
              "#fdca26"
             ],
             [
              1,
              "#f0f921"
             ]
            ],
            "type": "heatmap"
           }
          ],
          "heatmapgl": [
           {
            "colorbar": {
             "outlinewidth": 0,
             "ticks": ""
            },
            "colorscale": [
             [
              0,
              "#0d0887"
             ],
             [
              0.1111111111111111,
              "#46039f"
             ],
             [
              0.2222222222222222,
              "#7201a8"
             ],
             [
              0.3333333333333333,
              "#9c179e"
             ],
             [
              0.4444444444444444,
              "#bd3786"
             ],
             [
              0.5555555555555556,
              "#d8576b"
             ],
             [
              0.6666666666666666,
              "#ed7953"
             ],
             [
              0.7777777777777778,
              "#fb9f3a"
             ],
             [
              0.8888888888888888,
              "#fdca26"
             ],
             [
              1,
              "#f0f921"
             ]
            ],
            "type": "heatmapgl"
           }
          ],
          "histogram": [
           {
            "marker": {
             "pattern": {
              "fillmode": "overlay",
              "size": 10,
              "solidity": 0.2
             }
            },
            "type": "histogram"
           }
          ],
          "histogram2d": [
           {
            "colorbar": {
             "outlinewidth": 0,
             "ticks": ""
            },
            "colorscale": [
             [
              0,
              "#0d0887"
             ],
             [
              0.1111111111111111,
              "#46039f"
             ],
             [
              0.2222222222222222,
              "#7201a8"
             ],
             [
              0.3333333333333333,
              "#9c179e"
             ],
             [
              0.4444444444444444,
              "#bd3786"
             ],
             [
              0.5555555555555556,
              "#d8576b"
             ],
             [
              0.6666666666666666,
              "#ed7953"
             ],
             [
              0.7777777777777778,
              "#fb9f3a"
             ],
             [
              0.8888888888888888,
              "#fdca26"
             ],
             [
              1,
              "#f0f921"
             ]
            ],
            "type": "histogram2d"
           }
          ],
          "histogram2dcontour": [
           {
            "colorbar": {
             "outlinewidth": 0,
             "ticks": ""
            },
            "colorscale": [
             [
              0,
              "#0d0887"
             ],
             [
              0.1111111111111111,
              "#46039f"
             ],
             [
              0.2222222222222222,
              "#7201a8"
             ],
             [
              0.3333333333333333,
              "#9c179e"
             ],
             [
              0.4444444444444444,
              "#bd3786"
             ],
             [
              0.5555555555555556,
              "#d8576b"
             ],
             [
              0.6666666666666666,
              "#ed7953"
             ],
             [
              0.7777777777777778,
              "#fb9f3a"
             ],
             [
              0.8888888888888888,
              "#fdca26"
             ],
             [
              1,
              "#f0f921"
             ]
            ],
            "type": "histogram2dcontour"
           }
          ],
          "mesh3d": [
           {
            "colorbar": {
             "outlinewidth": 0,
             "ticks": ""
            },
            "type": "mesh3d"
           }
          ],
          "parcoords": [
           {
            "line": {
             "colorbar": {
              "outlinewidth": 0,
              "ticks": ""
             }
            },
            "type": "parcoords"
           }
          ],
          "pie": [
           {
            "automargin": true,
            "type": "pie"
           }
          ],
          "scatter": [
           {
            "marker": {
             "colorbar": {
              "outlinewidth": 0,
              "ticks": ""
             }
            },
            "type": "scatter"
           }
          ],
          "scatter3d": [
           {
            "line": {
             "colorbar": {
              "outlinewidth": 0,
              "ticks": ""
             }
            },
            "marker": {
             "colorbar": {
              "outlinewidth": 0,
              "ticks": ""
             }
            },
            "type": "scatter3d"
           }
          ],
          "scattercarpet": [
           {
            "marker": {
             "colorbar": {
              "outlinewidth": 0,
              "ticks": ""
             }
            },
            "type": "scattercarpet"
           }
          ],
          "scattergeo": [
           {
            "marker": {
             "colorbar": {
              "outlinewidth": 0,
              "ticks": ""
             }
            },
            "type": "scattergeo"
           }
          ],
          "scattergl": [
           {
            "marker": {
             "colorbar": {
              "outlinewidth": 0,
              "ticks": ""
             }
            },
            "type": "scattergl"
           }
          ],
          "scattermapbox": [
           {
            "marker": {
             "colorbar": {
              "outlinewidth": 0,
              "ticks": ""
             }
            },
            "type": "scattermapbox"
           }
          ],
          "scatterpolar": [
           {
            "marker": {
             "colorbar": {
              "outlinewidth": 0,
              "ticks": ""
             }
            },
            "type": "scatterpolar"
           }
          ],
          "scatterpolargl": [
           {
            "marker": {
             "colorbar": {
              "outlinewidth": 0,
              "ticks": ""
             }
            },
            "type": "scatterpolargl"
           }
          ],
          "scatterternary": [
           {
            "marker": {
             "colorbar": {
              "outlinewidth": 0,
              "ticks": ""
             }
            },
            "type": "scatterternary"
           }
          ],
          "surface": [
           {
            "colorbar": {
             "outlinewidth": 0,
             "ticks": ""
            },
            "colorscale": [
             [
              0,
              "#0d0887"
             ],
             [
              0.1111111111111111,
              "#46039f"
             ],
             [
              0.2222222222222222,
              "#7201a8"
             ],
             [
              0.3333333333333333,
              "#9c179e"
             ],
             [
              0.4444444444444444,
              "#bd3786"
             ],
             [
              0.5555555555555556,
              "#d8576b"
             ],
             [
              0.6666666666666666,
              "#ed7953"
             ],
             [
              0.7777777777777778,
              "#fb9f3a"
             ],
             [
              0.8888888888888888,
              "#fdca26"
             ],
             [
              1,
              "#f0f921"
             ]
            ],
            "type": "surface"
           }
          ],
          "table": [
           {
            "cells": {
             "fill": {
              "color": "#EBF0F8"
             },
             "line": {
              "color": "white"
             }
            },
            "header": {
             "fill": {
              "color": "#C8D4E3"
             },
             "line": {
              "color": "white"
             }
            },
            "type": "table"
           }
          ]
         },
         "layout": {
          "annotationdefaults": {
           "arrowcolor": "#2a3f5f",
           "arrowhead": 0,
           "arrowwidth": 1
          },
          "autotypenumbers": "strict",
          "coloraxis": {
           "colorbar": {
            "outlinewidth": 0,
            "ticks": ""
           }
          },
          "colorscale": {
           "diverging": [
            [
             0,
             "#8e0152"
            ],
            [
             0.1,
             "#c51b7d"
            ],
            [
             0.2,
             "#de77ae"
            ],
            [
             0.3,
             "#f1b6da"
            ],
            [
             0.4,
             "#fde0ef"
            ],
            [
             0.5,
             "#f7f7f7"
            ],
            [
             0.6,
             "#e6f5d0"
            ],
            [
             0.7,
             "#b8e186"
            ],
            [
             0.8,
             "#7fbc41"
            ],
            [
             0.9,
             "#4d9221"
            ],
            [
             1,
             "#276419"
            ]
           ],
           "sequential": [
            [
             0,
             "#0d0887"
            ],
            [
             0.1111111111111111,
             "#46039f"
            ],
            [
             0.2222222222222222,
             "#7201a8"
            ],
            [
             0.3333333333333333,
             "#9c179e"
            ],
            [
             0.4444444444444444,
             "#bd3786"
            ],
            [
             0.5555555555555556,
             "#d8576b"
            ],
            [
             0.6666666666666666,
             "#ed7953"
            ],
            [
             0.7777777777777778,
             "#fb9f3a"
            ],
            [
             0.8888888888888888,
             "#fdca26"
            ],
            [
             1,
             "#f0f921"
            ]
           ],
           "sequentialminus": [
            [
             0,
             "#0d0887"
            ],
            [
             0.1111111111111111,
             "#46039f"
            ],
            [
             0.2222222222222222,
             "#7201a8"
            ],
            [
             0.3333333333333333,
             "#9c179e"
            ],
            [
             0.4444444444444444,
             "#bd3786"
            ],
            [
             0.5555555555555556,
             "#d8576b"
            ],
            [
             0.6666666666666666,
             "#ed7953"
            ],
            [
             0.7777777777777778,
             "#fb9f3a"
            ],
            [
             0.8888888888888888,
             "#fdca26"
            ],
            [
             1,
             "#f0f921"
            ]
           ]
          },
          "colorway": [
           "#636efa",
           "#EF553B",
           "#00cc96",
           "#ab63fa",
           "#FFA15A",
           "#19d3f3",
           "#FF6692",
           "#B6E880",
           "#FF97FF",
           "#FECB52"
          ],
          "font": {
           "color": "#2a3f5f"
          },
          "geo": {
           "bgcolor": "white",
           "lakecolor": "white",
           "landcolor": "#E5ECF6",
           "showlakes": true,
           "showland": true,
           "subunitcolor": "white"
          },
          "hoverlabel": {
           "align": "left"
          },
          "hovermode": "closest",
          "mapbox": {
           "style": "light"
          },
          "paper_bgcolor": "white",
          "plot_bgcolor": "#E5ECF6",
          "polar": {
           "angularaxis": {
            "gridcolor": "white",
            "linecolor": "white",
            "ticks": ""
           },
           "bgcolor": "#E5ECF6",
           "radialaxis": {
            "gridcolor": "white",
            "linecolor": "white",
            "ticks": ""
           }
          },
          "scene": {
           "xaxis": {
            "backgroundcolor": "#E5ECF6",
            "gridcolor": "white",
            "gridwidth": 2,
            "linecolor": "white",
            "showbackground": true,
            "ticks": "",
            "zerolinecolor": "white"
           },
           "yaxis": {
            "backgroundcolor": "#E5ECF6",
            "gridcolor": "white",
            "gridwidth": 2,
            "linecolor": "white",
            "showbackground": true,
            "ticks": "",
            "zerolinecolor": "white"
           },
           "zaxis": {
            "backgroundcolor": "#E5ECF6",
            "gridcolor": "white",
            "gridwidth": 2,
            "linecolor": "white",
            "showbackground": true,
            "ticks": "",
            "zerolinecolor": "white"
           }
          },
          "shapedefaults": {
           "line": {
            "color": "#2a3f5f"
           }
          },
          "ternary": {
           "aaxis": {
            "gridcolor": "white",
            "linecolor": "white",
            "ticks": ""
           },
           "baxis": {
            "gridcolor": "white",
            "linecolor": "white",
            "ticks": ""
           },
           "bgcolor": "#E5ECF6",
           "caxis": {
            "gridcolor": "white",
            "linecolor": "white",
            "ticks": ""
           }
          },
          "title": {
           "x": 0.05
          },
          "xaxis": {
           "automargin": true,
           "gridcolor": "white",
           "linecolor": "white",
           "ticks": "",
           "title": {
            "standoff": 15
           },
           "zerolinecolor": "white",
           "zerolinewidth": 2
          },
          "yaxis": {
           "automargin": true,
           "gridcolor": "white",
           "linecolor": "white",
           "ticks": "",
           "title": {
            "standoff": 15
           },
           "zerolinecolor": "white",
           "zerolinewidth": 2
          }
         }
        },
        "xaxis": {
         "anchor": "y",
         "categoryarray": [
          "16-20",
          "21-25",
          "26-30",
          "31-35",
          "36-40",
          "41-45",
          "46-60"
         ],
         "categoryorder": "array",
         "domain": [
          0,
          1
         ],
         "title": {
          "text": "Age"
         }
        },
        "yaxis": {
         "anchor": "x",
         "domain": [
          0,
          1
         ],
         "title": {
          "text": "count"
         }
        }
       }
      },
      "text/html": [
       "<div>                            <div id=\"ea7ccb99-9332-4890-9410-19d8e3916d82\" class=\"plotly-graph-div\" style=\"height:525px; width:100%;\"></div>            <script type=\"text/javascript\">                require([\"plotly\"], function(Plotly) {                    window.PLOTLYENV=window.PLOTLYENV || {};                                    if (document.getElementById(\"ea7ccb99-9332-4890-9410-19d8e3916d82\")) {                    Plotly.newPlot(                        \"ea7ccb99-9332-4890-9410-19d8e3916d82\",                        [{\"alignmentgroup\":\"True\",\"bingroup\":\"x\",\"hovertemplate\":\"Age=%{x}<br>count=%{y}<extra></extra>\",\"legendgroup\":\"\",\"marker\":{\"color\":\"magenta\",\"pattern\":{\"shape\":\"\"}},\"name\":\"\",\"offsetgroup\":\"\",\"orientation\":\"v\",\"showlegend\":false,\"x\":[\"36-40\",\"26-30\",\"31-35\",\"31-35\",\"26-30\",\"36-40\",\"21-25\",\"26-30\",\"21-25\",\"21-25\",\"21-25\",\"26-30\",\"26-30\",\"21-25\",\"21-25\",\"21-25\",\"31-35\",\"31-35\",\"26-30\",\"21-25\",\"31-35\",\"31-35\",\"21-25\",\"21-25\",\"26-30\",\"21-25\",\"26-30\",\"21-25\",\"31-35\",\"31-35\",\"26-30\",\"26-30\",\"26-30\",\"31-35\",\"26-30\",\"21-25\",\"21-25\",\"21-25\",\"26-30\",\"26-30\",\"31-35\",\"31-35\",\"31-35\",\"21-25\",\"26-30\",\"31-35\",\"26-30\",\"31-35\",\"26-30\",\"26-30\",\"16-20\",\"26-30\",\"26-30\",\"21-25\",\"36-40\",\"36-40\",\"31-35\",\"31-35\",\"31-35\",\"26-30\",\"21-25\",\"31-35\",\"21-25\",\"26-30\",\"26-30\",\"26-30\",\"26-30\",\"16-20\",\"26-30\",\"21-25\",\"31-35\",\"31-35\",\"36-40\",\"26-30\",\"26-30\",\"31-35\",\"21-25\",\"21-25\",\"21-25\",\"16-20\",\"21-25\",\"21-25\",\"26-30\",\"26-30\",\"16-20\",\"21-25\",\"21-25\",\"16-20\",\"26-30\",\"21-25\",\"31-35\",\"31-35\",\"26-30\",\"26-30\",\"26-30\",\"31-35\",\"21-25\",\"26-30\",\"41-45\",\"41-45\",\"26-30\",\"21-25\",\"21-25\",\"21-25\",\"21-25\",\"16-20\",\"26-30\",\"21-25\",\"41-45\",\"21-25\",\"21-25\",\"26-30\",\"21-25\",\"26-30\",\"26-30\",\"26-30\",\"26-30\",\"41-45\",\"36-40\",\"26-30\",\"26-30\",\"26-30\",\"36-40\",\"26-30\",\"41-45\",\"41-45\",\"26-30\",\"21-25\",\"21-25\",\"26-30\",\"21-25\",\"26-30\",\"26-30\",\"36-40\",\"31-35\",\"31-35\",\"16-20\",\"26-30\",\"26-30\",\"26-30\",\"26-30\",\"21-25\",\"31-35\",\"26-30\",\"21-25\",\"21-25\",\"26-30\",\"21-25\",\"31-35\",\"46-60\",\"26-30\",\"31-35\",\"26-30\",\"31-35\",\"21-25\",\"26-30\",\"31-35\",\"21-25\",\"21-25\",\"26-30\",\"26-30\",\"21-25\",\"26-30\",\"26-30\",\"21-25\",\"21-25\",\"31-35\",\"31-35\",\"21-25\",\"26-30\",\"26-30\",\"26-30\",\"21-25\",\"26-30\",\"31-35\",\"26-30\",\"21-25\",\"26-30\",\"21-25\",\"21-25\",\"31-35\",\"16-20\",\"26-30\",\"26-30\",\"26-30\",\"31-35\",\"31-35\",\"21-25\",\"21-25\",\"16-20\",\"31-35\",\"31-35\",\"16-20\",\"21-25\",\"26-30\",\"21-25\",\"21-25\",\"26-30\",\"31-35\",\"31-35\",\"16-20\",\"21-25\",\"21-25\",\"36-40\",\"21-25\",\"26-30\",\"26-30\",\"26-30\",\"26-30\",\"26-30\",\"31-35\",\"36-40\",\"26-30\",\"26-30\",\"31-35\",\"21-25\",\"26-30\",\"21-25\",\"21-25\",\"21-25\",\"21-25\",\"16-20\",\"26-30\",\"26-30\",\"16-20\",\"21-25\",\"21-25\",\"21-25\",\"26-30\",\"26-30\",\"21-25\",\"21-25\",\"26-30\",\"26-30\",\"31-35\",\"26-30\",\"21-25\",\"26-30\",\"31-35\",\"21-25\",\"31-35\",\"26-30\",\"21-25\",\"26-30\",\"26-30\",\"31-35\",\"21-25\",\"26-30\",\"21-25\",\"21-25\",\"16-20\",\"21-25\",\"21-25\",\"21-25\",\"21-25\",\"31-35\",\"31-35\",\"26-30\",\"26-30\",\"21-25\",\"31-35\",\"31-35\",\"31-35\",\"36-40\",\"21-25\",\"21-25\",\"21-25\",\"21-25\",\"31-35\",\"46-60\",\"26-30\",\"21-25\",\"21-25\",\"31-35\",\"21-25\",\"31-35\",\"16-20\",\"21-25\",\"46-60\",\"26-30\",\"21-25\",\"36-40\",\"26-30\",\"21-25\",\"21-25\",\"21-25\",\"31-35\",\"21-25\",\"31-35\",\"41-45\",\"21-25\",\"21-25\",\"26-30\",\"31-35\",\"21-25\",\"26-30\",\"31-35\",\"26-30\",\"41-45\",\"26-30\",\"31-35\",\"21-25\",\"31-35\",\"26-30\",\"26-30\",\"31-35\",\"26-30\",\"26-30\",\"31-35\",\"26-30\",\"26-30\",\"36-40\",\"26-30\",\"26-30\",\"26-30\",\"31-35\",\"31-35\",\"21-25\",\"26-30\",\"21-25\",\"21-25\",\"31-35\",\"31-35\",\"26-30\",\"31-35\",\"26-30\",\"26-30\",\"21-25\",\"36-40\",\"41-45\",\"21-25\",\"16-20\",\"26-30\",\"21-25\",\"31-35\",\"21-25\",\"21-25\",\"26-30\",\"31-35\",\"26-30\",\"16-20\",\"31-35\",\"31-35\",\"26-30\",\"26-30\",\"26-30\",\"31-35\",\"16-20\",\"26-30\",\"26-30\",\"36-40\",\"31-35\",\"26-30\",\"36-40\",\"26-30\",\"21-25\",\"26-30\",\"31-35\",\"16-20\",\"26-30\",\"31-35\",\"26-30\",\"21-25\",\"26-30\",\"26-30\",\"26-30\",\"21-25\",\"21-25\",\"26-30\",\"21-25\",\"26-30\",\"31-35\",\"21-25\",\"26-30\",\"31-35\"],\"xaxis\":\"x\",\"yaxis\":\"y\",\"type\":\"histogram\"}],                        {\"template\":{\"data\":{\"bar\":[{\"error_x\":{\"color\":\"#2a3f5f\"},\"error_y\":{\"color\":\"#2a3f5f\"},\"marker\":{\"line\":{\"color\":\"#E5ECF6\",\"width\":0.5},\"pattern\":{\"fillmode\":\"overlay\",\"size\":10,\"solidity\":0.2}},\"type\":\"bar\"}],\"barpolar\":[{\"marker\":{\"line\":{\"color\":\"#E5ECF6\",\"width\":0.5},\"pattern\":{\"fillmode\":\"overlay\",\"size\":10,\"solidity\":0.2}},\"type\":\"barpolar\"}],\"carpet\":[{\"aaxis\":{\"endlinecolor\":\"#2a3f5f\",\"gridcolor\":\"white\",\"linecolor\":\"white\",\"minorgridcolor\":\"white\",\"startlinecolor\":\"#2a3f5f\"},\"baxis\":{\"endlinecolor\":\"#2a3f5f\",\"gridcolor\":\"white\",\"linecolor\":\"white\",\"minorgridcolor\":\"white\",\"startlinecolor\":\"#2a3f5f\"},\"type\":\"carpet\"}],\"choropleth\":[{\"colorbar\":{\"outlinewidth\":0,\"ticks\":\"\"},\"type\":\"choropleth\"}],\"contour\":[{\"colorbar\":{\"outlinewidth\":0,\"ticks\":\"\"},\"colorscale\":[[0.0,\"#0d0887\"],[0.1111111111111111,\"#46039f\"],[0.2222222222222222,\"#7201a8\"],[0.3333333333333333,\"#9c179e\"],[0.4444444444444444,\"#bd3786\"],[0.5555555555555556,\"#d8576b\"],[0.6666666666666666,\"#ed7953\"],[0.7777777777777778,\"#fb9f3a\"],[0.8888888888888888,\"#fdca26\"],[1.0,\"#f0f921\"]],\"type\":\"contour\"}],\"contourcarpet\":[{\"colorbar\":{\"outlinewidth\":0,\"ticks\":\"\"},\"type\":\"contourcarpet\"}],\"heatmap\":[{\"colorbar\":{\"outlinewidth\":0,\"ticks\":\"\"},\"colorscale\":[[0.0,\"#0d0887\"],[0.1111111111111111,\"#46039f\"],[0.2222222222222222,\"#7201a8\"],[0.3333333333333333,\"#9c179e\"],[0.4444444444444444,\"#bd3786\"],[0.5555555555555556,\"#d8576b\"],[0.6666666666666666,\"#ed7953\"],[0.7777777777777778,\"#fb9f3a\"],[0.8888888888888888,\"#fdca26\"],[1.0,\"#f0f921\"]],\"type\":\"heatmap\"}],\"heatmapgl\":[{\"colorbar\":{\"outlinewidth\":0,\"ticks\":\"\"},\"colorscale\":[[0.0,\"#0d0887\"],[0.1111111111111111,\"#46039f\"],[0.2222222222222222,\"#7201a8\"],[0.3333333333333333,\"#9c179e\"],[0.4444444444444444,\"#bd3786\"],[0.5555555555555556,\"#d8576b\"],[0.6666666666666666,\"#ed7953\"],[0.7777777777777778,\"#fb9f3a\"],[0.8888888888888888,\"#fdca26\"],[1.0,\"#f0f921\"]],\"type\":\"heatmapgl\"}],\"histogram\":[{\"marker\":{\"pattern\":{\"fillmode\":\"overlay\",\"size\":10,\"solidity\":0.2}},\"type\":\"histogram\"}],\"histogram2d\":[{\"colorbar\":{\"outlinewidth\":0,\"ticks\":\"\"},\"colorscale\":[[0.0,\"#0d0887\"],[0.1111111111111111,\"#46039f\"],[0.2222222222222222,\"#7201a8\"],[0.3333333333333333,\"#9c179e\"],[0.4444444444444444,\"#bd3786\"],[0.5555555555555556,\"#d8576b\"],[0.6666666666666666,\"#ed7953\"],[0.7777777777777778,\"#fb9f3a\"],[0.8888888888888888,\"#fdca26\"],[1.0,\"#f0f921\"]],\"type\":\"histogram2d\"}],\"histogram2dcontour\":[{\"colorbar\":{\"outlinewidth\":0,\"ticks\":\"\"},\"colorscale\":[[0.0,\"#0d0887\"],[0.1111111111111111,\"#46039f\"],[0.2222222222222222,\"#7201a8\"],[0.3333333333333333,\"#9c179e\"],[0.4444444444444444,\"#bd3786\"],[0.5555555555555556,\"#d8576b\"],[0.6666666666666666,\"#ed7953\"],[0.7777777777777778,\"#fb9f3a\"],[0.8888888888888888,\"#fdca26\"],[1.0,\"#f0f921\"]],\"type\":\"histogram2dcontour\"}],\"mesh3d\":[{\"colorbar\":{\"outlinewidth\":0,\"ticks\":\"\"},\"type\":\"mesh3d\"}],\"parcoords\":[{\"line\":{\"colorbar\":{\"outlinewidth\":0,\"ticks\":\"\"}},\"type\":\"parcoords\"}],\"pie\":[{\"automargin\":true,\"type\":\"pie\"}],\"scatter\":[{\"marker\":{\"colorbar\":{\"outlinewidth\":0,\"ticks\":\"\"}},\"type\":\"scatter\"}],\"scatter3d\":[{\"line\":{\"colorbar\":{\"outlinewidth\":0,\"ticks\":\"\"}},\"marker\":{\"colorbar\":{\"outlinewidth\":0,\"ticks\":\"\"}},\"type\":\"scatter3d\"}],\"scattercarpet\":[{\"marker\":{\"colorbar\":{\"outlinewidth\":0,\"ticks\":\"\"}},\"type\":\"scattercarpet\"}],\"scattergeo\":[{\"marker\":{\"colorbar\":{\"outlinewidth\":0,\"ticks\":\"\"}},\"type\":\"scattergeo\"}],\"scattergl\":[{\"marker\":{\"colorbar\":{\"outlinewidth\":0,\"ticks\":\"\"}},\"type\":\"scattergl\"}],\"scattermapbox\":[{\"marker\":{\"colorbar\":{\"outlinewidth\":0,\"ticks\":\"\"}},\"type\":\"scattermapbox\"}],\"scatterpolar\":[{\"marker\":{\"colorbar\":{\"outlinewidth\":0,\"ticks\":\"\"}},\"type\":\"scatterpolar\"}],\"scatterpolargl\":[{\"marker\":{\"colorbar\":{\"outlinewidth\":0,\"ticks\":\"\"}},\"type\":\"scatterpolargl\"}],\"scatterternary\":[{\"marker\":{\"colorbar\":{\"outlinewidth\":0,\"ticks\":\"\"}},\"type\":\"scatterternary\"}],\"surface\":[{\"colorbar\":{\"outlinewidth\":0,\"ticks\":\"\"},\"colorscale\":[[0.0,\"#0d0887\"],[0.1111111111111111,\"#46039f\"],[0.2222222222222222,\"#7201a8\"],[0.3333333333333333,\"#9c179e\"],[0.4444444444444444,\"#bd3786\"],[0.5555555555555556,\"#d8576b\"],[0.6666666666666666,\"#ed7953\"],[0.7777777777777778,\"#fb9f3a\"],[0.8888888888888888,\"#fdca26\"],[1.0,\"#f0f921\"]],\"type\":\"surface\"}],\"table\":[{\"cells\":{\"fill\":{\"color\":\"#EBF0F8\"},\"line\":{\"color\":\"white\"}},\"header\":{\"fill\":{\"color\":\"#C8D4E3\"},\"line\":{\"color\":\"white\"}},\"type\":\"table\"}]},\"layout\":{\"annotationdefaults\":{\"arrowcolor\":\"#2a3f5f\",\"arrowhead\":0,\"arrowwidth\":1},\"autotypenumbers\":\"strict\",\"coloraxis\":{\"colorbar\":{\"outlinewidth\":0,\"ticks\":\"\"}},\"colorscale\":{\"diverging\":[[0,\"#8e0152\"],[0.1,\"#c51b7d\"],[0.2,\"#de77ae\"],[0.3,\"#f1b6da\"],[0.4,\"#fde0ef\"],[0.5,\"#f7f7f7\"],[0.6,\"#e6f5d0\"],[0.7,\"#b8e186\"],[0.8,\"#7fbc41\"],[0.9,\"#4d9221\"],[1,\"#276419\"]],\"sequential\":[[0.0,\"#0d0887\"],[0.1111111111111111,\"#46039f\"],[0.2222222222222222,\"#7201a8\"],[0.3333333333333333,\"#9c179e\"],[0.4444444444444444,\"#bd3786\"],[0.5555555555555556,\"#d8576b\"],[0.6666666666666666,\"#ed7953\"],[0.7777777777777778,\"#fb9f3a\"],[0.8888888888888888,\"#fdca26\"],[1.0,\"#f0f921\"]],\"sequentialminus\":[[0.0,\"#0d0887\"],[0.1111111111111111,\"#46039f\"],[0.2222222222222222,\"#7201a8\"],[0.3333333333333333,\"#9c179e\"],[0.4444444444444444,\"#bd3786\"],[0.5555555555555556,\"#d8576b\"],[0.6666666666666666,\"#ed7953\"],[0.7777777777777778,\"#fb9f3a\"],[0.8888888888888888,\"#fdca26\"],[1.0,\"#f0f921\"]]},\"colorway\":[\"#636efa\",\"#EF553B\",\"#00cc96\",\"#ab63fa\",\"#FFA15A\",\"#19d3f3\",\"#FF6692\",\"#B6E880\",\"#FF97FF\",\"#FECB52\"],\"font\":{\"color\":\"#2a3f5f\"},\"geo\":{\"bgcolor\":\"white\",\"lakecolor\":\"white\",\"landcolor\":\"#E5ECF6\",\"showlakes\":true,\"showland\":true,\"subunitcolor\":\"white\"},\"hoverlabel\":{\"align\":\"left\"},\"hovermode\":\"closest\",\"mapbox\":{\"style\":\"light\"},\"paper_bgcolor\":\"white\",\"plot_bgcolor\":\"#E5ECF6\",\"polar\":{\"angularaxis\":{\"gridcolor\":\"white\",\"linecolor\":\"white\",\"ticks\":\"\"},\"bgcolor\":\"#E5ECF6\",\"radialaxis\":{\"gridcolor\":\"white\",\"linecolor\":\"white\",\"ticks\":\"\"}},\"scene\":{\"xaxis\":{\"backgroundcolor\":\"#E5ECF6\",\"gridcolor\":\"white\",\"gridwidth\":2,\"linecolor\":\"white\",\"showbackground\":true,\"ticks\":\"\",\"zerolinecolor\":\"white\"},\"yaxis\":{\"backgroundcolor\":\"#E5ECF6\",\"gridcolor\":\"white\",\"gridwidth\":2,\"linecolor\":\"white\",\"showbackground\":true,\"ticks\":\"\",\"zerolinecolor\":\"white\"},\"zaxis\":{\"backgroundcolor\":\"#E5ECF6\",\"gridcolor\":\"white\",\"gridwidth\":2,\"linecolor\":\"white\",\"showbackground\":true,\"ticks\":\"\",\"zerolinecolor\":\"white\"}},\"shapedefaults\":{\"line\":{\"color\":\"#2a3f5f\"}},\"ternary\":{\"aaxis\":{\"gridcolor\":\"white\",\"linecolor\":\"white\",\"ticks\":\"\"},\"baxis\":{\"gridcolor\":\"white\",\"linecolor\":\"white\",\"ticks\":\"\"},\"bgcolor\":\"#E5ECF6\",\"caxis\":{\"gridcolor\":\"white\",\"linecolor\":\"white\",\"ticks\":\"\"}},\"title\":{\"x\":0.05},\"xaxis\":{\"automargin\":true,\"gridcolor\":\"white\",\"linecolor\":\"white\",\"ticks\":\"\",\"title\":{\"standoff\":15},\"zerolinecolor\":\"white\",\"zerolinewidth\":2},\"yaxis\":{\"automargin\":true,\"gridcolor\":\"white\",\"linecolor\":\"white\",\"ticks\":\"\",\"title\":{\"standoff\":15},\"zerolinecolor\":\"white\",\"zerolinewidth\":2}}},\"xaxis\":{\"anchor\":\"y\",\"domain\":[0.0,1.0],\"title\":{\"text\":\"Age\"},\"categoryorder\":\"array\",\"categoryarray\":[\"16-20\",\"21-25\",\"26-30\",\"31-35\",\"36-40\",\"41-45\",\"46-60\"]},\"yaxis\":{\"anchor\":\"x\",\"domain\":[0.0,1.0],\"title\":{\"text\":\"count\"}},\"legend\":{\"tracegroupgap\":0},\"margin\":{\"t\":60},\"barmode\":\"relative\"},                        {\"responsive\": true}                    ).then(function(){\n",
       "                            \n",
       "var gd = document.getElementById('ea7ccb99-9332-4890-9410-19d8e3916d82');\n",
       "var x = new MutationObserver(function (mutations, observer) {{\n",
       "        var display = window.getComputedStyle(gd).display;\n",
       "        if (!display || display === 'none') {{\n",
       "            console.log([gd, 'removed!']);\n",
       "            Plotly.purge(gd);\n",
       "            observer.disconnect();\n",
       "        }}\n",
       "}});\n",
       "\n",
       "// Listen for the removal of the full notebook cells\n",
       "var notebookContainer = gd.closest('#notebook-container');\n",
       "if (notebookContainer) {{\n",
       "    x.observe(notebookContainer, {childList: true});\n",
       "}}\n",
       "\n",
       "// Listen for the clearing of the current output cell\n",
       "var outputEl = gd.closest('.output');\n",
       "if (outputEl) {{\n",
       "    x.observe(outputEl, {childList: true});\n",
       "}}\n",
       "\n",
       "                        })                };                });            </script>        </div>"
      ]
     },
     "metadata": {},
     "output_type": "display_data"
    }
   ],
   "source": [
    "df=pd.read_csv(\"Chilla_data2_for_plots .csv\")\n",
    "fig = px.histogram(df, x=\"Age\",color_discrete_sequence=['magenta'],\n",
    "                  category_orders=dict(Age=[\"16-20\", \"21-25\", \"26-30\", \"31-35\",\"36-40\",\"41-45\",\"46-60\"]))\n",
    "fig.show()"
   ]
  }
 ],
 "metadata": {
  "kernelspec": {
   "display_name": "Python 3 (ipykernel)",
   "language": "python",
   "name": "python3"
  },
  "language_info": {
   "codemirror_mode": {
    "name": "ipython",
    "version": 3
   },
   "file_extension": ".py",
   "mimetype": "text/x-python",
   "name": "python",
   "nbconvert_exporter": "python",
   "pygments_lexer": "ipython3",
   "version": "3.10.1"
  }
 },
 "nbformat": 4,
 "nbformat_minor": 5
}
