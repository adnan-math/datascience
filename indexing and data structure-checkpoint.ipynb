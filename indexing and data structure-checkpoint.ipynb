{
 "cells": [
  {
   "cell_type": "markdown",
   "id": "e140c46d",
   "metadata": {},
   "source": [
    "# Indexing"
   ]
  },
  {
   "cell_type": "code",
   "execution_count": 1,
   "id": "edb389f7",
   "metadata": {},
   "outputs": [
    {
     "data": {
      "text/plain": [
       "'samoosa pakora'"
      ]
     },
     "execution_count": 1,
     "metadata": {},
     "output_type": "execute_result"
    }
   ],
   "source": [
    "a=\"samoosa pakora\"\n",
    "a"
   ]
  },
  {
   "cell_type": "code",
   "execution_count": 2,
   "id": "eb6eb5ed",
   "metadata": {},
   "outputs": [
    {
     "data": {
      "text/plain": [
       "'o'"
      ]
     },
     "execution_count": 2,
     "metadata": {},
     "output_type": "execute_result"
    }
   ],
   "source": [
    "a[3]"
   ]
  },
  {
   "cell_type": "code",
   "execution_count": 3,
   "id": "be11fc7a",
   "metadata": {},
   "outputs": [
    {
     "data": {
      "text/plain": [
       "'s'"
      ]
     },
     "execution_count": 3,
     "metadata": {},
     "output_type": "execute_result"
    }
   ],
   "source": [
    "a[0]"
   ]
  },
  {
   "cell_type": "code",
   "execution_count": 4,
   "id": "5bcb1804",
   "metadata": {},
   "outputs": [
    {
     "data": {
      "text/plain": [
       "14"
      ]
     },
     "execution_count": 4,
     "metadata": {},
     "output_type": "execute_result"
    }
   ],
   "source": [
    "len(a)"
   ]
  },
  {
   "cell_type": "code",
   "execution_count": 5,
   "id": "3f66d043",
   "metadata": {},
   "outputs": [
    {
     "data": {
      "text/plain": [
       "'samoo'"
      ]
     },
     "execution_count": 5,
     "metadata": {},
     "output_type": "execute_result"
    }
   ],
   "source": [
    "a[0:5]"
   ]
  },
  {
   "cell_type": "code",
   "execution_count": 7,
   "id": "3ec3f2fb",
   "metadata": {},
   "outputs": [
    {
     "data": {
      "text/plain": [
       "'samoosa'"
      ]
     },
     "execution_count": 7,
     "metadata": {},
     "output_type": "execute_result"
    }
   ],
   "source": [
    "a[0:7]"
   ]
  },
  {
   "cell_type": "code",
   "execution_count": 9,
   "id": "e17877e2",
   "metadata": {},
   "outputs": [
    {
     "data": {
      "text/plain": [
       "'r'"
      ]
     },
     "execution_count": 9,
     "metadata": {},
     "output_type": "execute_result"
    }
   ],
   "source": [
    "# when sart from the right side use negative sign\n",
    "a[-2]"
   ]
  },
  {
   "cell_type": "markdown",
   "id": "e7a41c1e",
   "metadata": {},
   "source": [
    "## String Methods"
   ]
  },
  {
   "cell_type": "code",
   "execution_count": 13,
   "id": "24448f6f",
   "metadata": {},
   "outputs": [
    {
     "data": {
      "text/plain": [
       "'biryani'"
      ]
     },
     "execution_count": 13,
     "metadata": {},
     "output_type": "execute_result"
    }
   ],
   "source": [
    "food=\"biryani\"\n",
    "food"
   ]
  },
  {
   "cell_type": "code",
   "execution_count": 15,
   "id": "930f4e65",
   "metadata": {},
   "outputs": [
    {
     "data": {
      "text/plain": [
       "'BIRYANI'"
      ]
     },
     "execution_count": 15,
     "metadata": {},
     "output_type": "execute_result"
    }
   ],
   "source": [
    "food.upper()"
   ]
  },
  {
   "cell_type": "code",
   "execution_count": 16,
   "id": "66481173",
   "metadata": {},
   "outputs": [
    {
     "data": {
      "text/plain": [
       "'shiryani'"
      ]
     },
     "execution_count": 16,
     "metadata": {},
     "output_type": "execute_result"
    }
   ],
   "source": [
    "food.replace('b','sh')"
   ]
  },
  {
   "cell_type": "code",
   "execution_count": 17,
   "id": "9617c262",
   "metadata": {},
   "outputs": [
    {
     "data": {
      "text/plain": [
       "'My name is Adnan Anwar'"
      ]
     },
     "execution_count": 17,
     "metadata": {},
     "output_type": "execute_result"
    }
   ],
   "source": [
    "name=\"My name is Adnan Anwar\"\n",
    "name"
   ]
  },
  {
   "cell_type": "code",
   "execution_count": 19,
   "id": "473b6e0e",
   "metadata": {},
   "outputs": [
    {
     "data": {
      "text/plain": [
       "1"
      ]
     },
     "execution_count": 19,
     "metadata": {},
     "output_type": "execute_result"
    }
   ],
   "source": [
    "#Count a specific number or word\n",
    "name.count(\"a\")\n",
    "name.count(\"Adnan\")"
   ]
  },
  {
   "cell_type": "markdown",
   "id": "2e0e5093",
   "metadata": {},
   "source": [
    "# Finding an index number in a string"
   ]
  },
  {
   "cell_type": "code",
   "execution_count": 20,
   "id": "62ebd068",
   "metadata": {},
   "outputs": [
    {
     "data": {
      "text/plain": [
       "'My name is Adnan Anwar'"
      ]
     },
     "execution_count": 20,
     "metadata": {},
     "output_type": "execute_result"
    }
   ],
   "source": [
    "name"
   ]
  },
  {
   "cell_type": "code",
   "execution_count": 21,
   "id": "0416bdbc",
   "metadata": {},
   "outputs": [
    {
     "data": {
      "text/plain": [
       "9"
      ]
     },
     "execution_count": 21,
     "metadata": {},
     "output_type": "execute_result"
    }
   ],
   "source": [
    "name.find(\"s\")"
   ]
  },
  {
   "cell_type": "markdown",
   "id": "ef94dd00",
   "metadata": {},
   "source": [
    "# How to split a string"
   ]
  },
  {
   "cell_type": "code",
   "execution_count": 22,
   "id": "de245644",
   "metadata": {},
   "outputs": [
    {
     "data": {
      "text/plain": [
       "'I love biryani, raita, beef pulao, karahi, custered'"
      ]
     },
     "execution_count": 22,
     "metadata": {},
     "output_type": "execute_result"
    }
   ],
   "source": [
    "foods=\"I love biryani, raita, beef pulao, karahi, custered\"\n",
    "foods"
   ]
  },
  {
   "cell_type": "code",
   "execution_count": 23,
   "id": "6b9829b1",
   "metadata": {},
   "outputs": [
    {
     "data": {
      "text/plain": [
       "['I love biryani', ' raita', ' beef pulao', ' karahi', ' custered']"
      ]
     },
     "execution_count": 23,
     "metadata": {},
     "output_type": "execute_result"
    }
   ],
   "source": [
    "foods.split(\",\")"
   ]
  },
  {
   "cell_type": "code",
   "execution_count": 25,
   "id": "a0c01ddb",
   "metadata": {},
   "outputs": [
    {
     "data": {
      "text/plain": [
       "['I love biry', 'ni, r', 'it', ', beef pul', 'o, k', 'r', 'hi, custered']"
      ]
     },
     "execution_count": 25,
     "metadata": {},
     "output_type": "execute_result"
    }
   ],
   "source": [
    "foods.split(\"a\")"
   ]
  },
  {
   "cell_type": "markdown",
   "id": "92ecd7c7",
   "metadata": {},
   "source": [
    "# Basic Data Structure in python\n",
    "### Tuple\n",
    "### List\n",
    "### Distionary\n",
    "### Set"
   ]
  },
  {
   "cell_type": "markdown",
   "id": "8823adc7",
   "metadata": {},
   "source": [
    "## Tuple\n",
    "- Order collection of elements\n",
    "- Enclosed in round bracket ()\n",
    "- Different kind of elements can be stored\n",
    "- Once the elmeent is stored, you can not change them"
   ]
  },
  {
   "cell_type": "code",
   "execution_count": 2,
   "id": "dc55544c",
   "metadata": {},
   "outputs": [
    {
     "data": {
      "text/plain": [
       "(2, 'python', True, 3.5)"
      ]
     },
     "execution_count": 2,
     "metadata": {},
     "output_type": "execute_result"
    }
   ],
   "source": [
    "tup1=(2,\"python\",True,3.5)\n",
    "tup1"
   ]
  },
  {
   "cell_type": "code",
   "execution_count": 3,
   "id": "c21a5aa1",
   "metadata": {},
   "outputs": [
    {
     "data": {
      "text/plain": [
       "tuple"
      ]
     },
     "execution_count": 3,
     "metadata": {},
     "output_type": "execute_result"
    }
   ],
   "source": [
    "type(tup1)"
   ]
  },
  {
   "cell_type": "code",
   "execution_count": 4,
   "id": "f20b74d4",
   "metadata": {},
   "outputs": [
    {
     "data": {
      "text/plain": [
       "4"
      ]
     },
     "execution_count": 4,
     "metadata": {},
     "output_type": "execute_result"
    }
   ],
   "source": [
    "len(tup1)"
   ]
  },
  {
   "cell_type": "code",
   "execution_count": 6,
   "id": "49745483",
   "metadata": {},
   "outputs": [],
   "source": [
    "tup2=(4,\"adnan\",3.5, False)"
   ]
  },
  {
   "cell_type": "code",
   "execution_count": 7,
   "id": "f7da99b3",
   "metadata": {},
   "outputs": [
    {
     "data": {
      "text/plain": [
       "(2, 'python', True, 3.5, 4, 'adnan', 3.5, False)"
      ]
     },
     "execution_count": 7,
     "metadata": {},
     "output_type": "execute_result"
    }
   ],
   "source": [
    "#Concatenate\n",
    "tup1+tup2"
   ]
  },
  {
   "cell_type": "code",
   "execution_count": 8,
   "id": "8240e099",
   "metadata": {},
   "outputs": [
    {
     "data": {
      "text/plain": [
       "(2, 'python', True, 3.5, 2, 'python', True, 3.5, 2, 'python', True, 3.5)"
      ]
     },
     "execution_count": 8,
     "metadata": {},
     "output_type": "execute_result"
    }
   ],
   "source": [
    "#Concatenate + repeat\n",
    "tup1*2 + tup1"
   ]
  },
  {
   "cell_type": "code",
   "execution_count": 9,
   "id": "0cb027bb",
   "metadata": {},
   "outputs": [],
   "source": [
    "tup3 = (20,30,54,12,18,33)"
   ]
  },
  {
   "cell_type": "code",
   "execution_count": 10,
   "id": "c47ebc31",
   "metadata": {},
   "outputs": [
    {
     "data": {
      "text/plain": [
       "12"
      ]
     },
     "execution_count": 10,
     "metadata": {},
     "output_type": "execute_result"
    }
   ],
   "source": [
    "min(tup3)"
   ]
  },
  {
   "cell_type": "code",
   "execution_count": 11,
   "id": "a9ab208c",
   "metadata": {},
   "outputs": [
    {
     "data": {
      "text/plain": [
       "54"
      ]
     },
     "execution_count": 11,
     "metadata": {},
     "output_type": "execute_result"
    }
   ],
   "source": [
    "max(tup3)"
   ]
  },
  {
   "cell_type": "markdown",
   "id": "3e7b6496",
   "metadata": {},
   "source": [
    "---"
   ]
  },
  {
   "cell_type": "markdown",
   "id": "8214c4a4",
   "metadata": {},
   "source": [
    "## - List\n",
    "   - ordered collection of element\n",
    "   - Enclosed in [] brackets\n",
    "   - Values can be changed"
   ]
  },
  {
   "cell_type": "code",
   "execution_count": 13,
   "id": "9774aa9e",
   "metadata": {},
   "outputs": [
    {
     "data": {
      "text/plain": [
       "[2, 'adnan', 3.5]"
      ]
     },
     "execution_count": 13,
     "metadata": {},
     "output_type": "execute_result"
    }
   ],
   "source": [
    "list1 = [2,\"adnan\",3.5]\n",
    "list1"
   ]
  },
  {
   "cell_type": "code",
   "execution_count": 14,
   "id": "52be2017",
   "metadata": {},
   "outputs": [
    {
     "data": {
      "text/plain": [
       "3"
      ]
     },
     "execution_count": 14,
     "metadata": {},
     "output_type": "execute_result"
    }
   ],
   "source": [
    "len(list1)"
   ]
  },
  {
   "cell_type": "code",
   "execution_count": 15,
   "id": "5b0ccc12",
   "metadata": {},
   "outputs": [
    {
     "data": {
      "text/plain": [
       "[2, 5, 34, 'car', 'bike', 6.7, 44, 34]"
      ]
     },
     "execution_count": 15,
     "metadata": {},
     "output_type": "execute_result"
    }
   ],
   "source": [
    "list2 = [2,5,34,\"car\", \"bike\",6.7,44,34]\n",
    "list2"
   ]
  },
  {
   "cell_type": "code",
   "execution_count": 16,
   "id": "e4e95941",
   "metadata": {},
   "outputs": [
    {
     "data": {
      "text/plain": [
       "[2, 'adnan', 3.5, 2, 5, 34, 'car', 'bike', 6.7, 44, 34]"
      ]
     },
     "execution_count": 16,
     "metadata": {},
     "output_type": "execute_result"
    }
   ],
   "source": [
    "list1 + list2"
   ]
  },
  {
   "cell_type": "code",
   "execution_count": 20,
   "id": "626052e4",
   "metadata": {},
   "outputs": [
    {
     "data": {
      "text/plain": [
       "[3.5, 'adnan', 2]"
      ]
     },
     "execution_count": 20,
     "metadata": {},
     "output_type": "execute_result"
    }
   ],
   "source": [
    "list1.reverse()\n",
    "list1"
   ]
  },
  {
   "cell_type": "code",
   "execution_count": 23,
   "id": "2c630f22",
   "metadata": {},
   "outputs": [
    {
     "data": {
      "text/plain": [
       "[3.5, 'adnan', 2, 'adnanamwar', 'adnanamwar']"
      ]
     },
     "execution_count": 23,
     "metadata": {},
     "output_type": "execute_result"
    }
   ],
   "source": [
    "list1.append(\"adnanamwar\")\n",
    "list1"
   ]
  },
  {
   "cell_type": "code",
   "execution_count": 25,
   "id": "c67f5252",
   "metadata": {},
   "outputs": [
    {
     "data": {
      "text/plain": [
       "1"
      ]
     },
     "execution_count": 25,
     "metadata": {},
     "output_type": "execute_result"
    }
   ],
   "source": [
    "list1.count(2)"
   ]
  },
  {
   "cell_type": "code",
   "execution_count": 26,
   "id": "c3981a05",
   "metadata": {},
   "outputs": [],
   "source": [
    "#Sorting a list"
   ]
  },
  {
   "cell_type": "code",
   "execution_count": 31,
   "id": "dbde7b5a",
   "metadata": {},
   "outputs": [
    {
     "data": {
      "text/plain": [
       "[3.5, 'adnan', 2, 'adnanamwar', 'adnanamwar']"
      ]
     },
     "execution_count": 31,
     "metadata": {},
     "output_type": "execute_result"
    }
   ],
   "source": [
    "list1.sort\n",
    "list1"
   ]
  },
  {
   "cell_type": "code",
   "execution_count": 34,
   "id": "1f2a14f7",
   "metadata": {},
   "outputs": [],
   "source": [
    "list3=[23,44,35,67,12,2,8,12,43]"
   ]
  },
  {
   "cell_type": "code",
   "execution_count": 35,
   "id": "58ec4241",
   "metadata": {},
   "outputs": [
    {
     "data": {
      "text/plain": [
       "[2, 8, 12, 12, 23, 35, 43, 44, 67]"
      ]
     },
     "execution_count": 35,
     "metadata": {},
     "output_type": "execute_result"
    }
   ],
   "source": [
    "list3.sort()\n",
    "list3"
   ]
  },
  {
   "cell_type": "code",
   "execution_count": 38,
   "id": "6019b6ec",
   "metadata": {},
   "outputs": [
    {
     "data": {
      "text/plain": [
       "[2, 8, 12, 12, 23, 35, 43, 44, 67, 2, 8, 12, 12, 23, 35, 43, 44, 67]"
      ]
     },
     "execution_count": 38,
     "metadata": {},
     "output_type": "execute_result"
    }
   ],
   "source": [
    "list3*2"
   ]
  },
  {
   "cell_type": "code",
   "execution_count": 40,
   "id": "a87ef8af",
   "metadata": {},
   "outputs": [
    {
     "data": {
      "text/plain": [
       "[3.5,\n",
       " 'adnan',\n",
       " 2,\n",
       " 'adnanamwar',\n",
       " 'adnanamwar',\n",
       " 2,\n",
       " 5,\n",
       " 34,\n",
       " 'car',\n",
       " 'bike',\n",
       " 6.7,\n",
       " 44,\n",
       " 34,\n",
       " 2,\n",
       " 8,\n",
       " 12,\n",
       " 12,\n",
       " 23,\n",
       " 35,\n",
       " 43,\n",
       " 44,\n",
       " 67]"
      ]
     },
     "execution_count": 40,
     "metadata": {},
     "output_type": "execute_result"
    }
   ],
   "source": [
    "lists = list1+list2+list3\n",
    "lists"
   ]
  },
  {
   "cell_type": "markdown",
   "id": "1ebc3588",
   "metadata": {},
   "source": [
    "## Dictionaries\n",
    "  - An unorderes collection of element\n",
    "  - Key and value\n",
    "  - Use {} bracket\n",
    "  - Mutateable, value can be changed"
   ]
  },
  {
   "cell_type": "code",
   "execution_count": 41,
   "id": "7cfa398d",
   "metadata": {},
   "outputs": [
    {
     "data": {
      "text/plain": [
       "{'samoosa': 30, 'pakora': 20, 'chickenrools': 50, 'salad': 50}"
      ]
     },
     "execution_count": 41,
     "metadata": {},
     "output_type": "execute_result"
    }
   ],
   "source": [
    "#Food and their prices\n",
    "food1={\"samoosa\":30, \"pakora\":20, \"chickenrools\": 50,\"salad\":50}\n",
    "food1"
   ]
  },
  {
   "cell_type": "code",
   "execution_count": 42,
   "id": "a3bccc4c",
   "metadata": {},
   "outputs": [
    {
     "data": {
      "text/plain": [
       "dict"
      ]
     },
     "execution_count": 42,
     "metadata": {},
     "output_type": "execute_result"
    }
   ],
   "source": [
    "type(food1)"
   ]
  },
  {
   "cell_type": "code",
   "execution_count": 44,
   "id": "f4397887",
   "metadata": {},
   "outputs": [
    {
     "data": {
      "text/plain": [
       "dict_keys(['samoosa', 'pakora', 'chickenrools', 'salad'])"
      ]
     },
     "execution_count": 44,
     "metadata": {},
     "output_type": "execute_result"
    }
   ],
   "source": [
    "# Extract data\n",
    "keys1=food1.keys()\n",
    "keys1"
   ]
  },
  {
   "cell_type": "code",
   "execution_count": 46,
   "id": "0f6bada5",
   "metadata": {},
   "outputs": [
    {
     "data": {
      "text/plain": [
       "dict_values([30, 20, 50, 50])"
      ]
     },
     "execution_count": 46,
     "metadata": {},
     "output_type": "execute_result"
    }
   ],
   "source": [
    "values = food1.values()\n",
    "values"
   ]
  },
  {
   "cell_type": "code",
   "execution_count": 47,
   "id": "a5b22e0e",
   "metadata": {},
   "outputs": [
    {
     "data": {
      "text/plain": [
       "{'samoosa': 30, 'pakora': 20, 'chickenrools': 50, 'salad': 50, 'tikki': 10}"
      ]
     },
     "execution_count": 47,
     "metadata": {},
     "output_type": "execute_result"
    }
   ],
   "source": [
    "# Adding new element\n",
    "food1[\"tikki\"]=10\n",
    "food1"
   ]
  },
  {
   "cell_type": "code",
   "execution_count": 48,
   "id": "e2003abf",
   "metadata": {},
   "outputs": [
    {
     "data": {
      "text/plain": [
       "{'samoosa': 30, 'pakora': 20, 'chickenrools': 50, 'salad': 50, 'tikki': 15}"
      ]
     },
     "execution_count": 48,
     "metadata": {},
     "output_type": "execute_result"
    }
   ],
   "source": [
    "# Update a value\n",
    "food1[\"tikki\"]=15\n",
    "food1"
   ]
  },
  {
   "cell_type": "code",
   "execution_count": 49,
   "id": "0618dcce",
   "metadata": {},
   "outputs": [
    {
     "data": {
      "text/plain": [
       "{'Dates': 300, 'Chocolate': 90, 'pista': 420}"
      ]
     },
     "execution_count": 49,
     "metadata": {},
     "output_type": "execute_result"
    }
   ],
   "source": [
    "food2={\"Dates\":300, \"Chocolate\":90,\"pista\":420}\n",
    "food2"
   ]
  },
  {
   "cell_type": "code",
   "execution_count": 54,
   "id": "520e81c3",
   "metadata": {},
   "outputs": [
    {
     "data": {
      "text/plain": [
       "{'samoosa': 30,\n",
       " 'pakora': 20,\n",
       " 'chickenrools': 50,\n",
       " 'salad': 50,\n",
       " 'tikki': 15,\n",
       " 'Dates': 300,\n",
       " 'Chocolate': 90,\n",
       " 'pista': 420}"
      ]
     },
     "execution_count": 54,
     "metadata": {},
     "output_type": "execute_result"
    }
   ],
   "source": [
    "food1.update(food2)\n",
    "food1"
   ]
  },
  {
   "cell_type": "markdown",
   "id": "7c485947",
   "metadata": {},
   "source": [
    "## Set\n",
    "   - unordered cpllection of element\n",
    "   - No duplicate exists\n",
    "   - Curly bracket are used"
   ]
  },
  {
   "cell_type": "code",
   "execution_count": 57,
   "id": "3ea05d28",
   "metadata": {},
   "outputs": [
    {
     "data": {
      "text/plain": [
       "{12, 2, 22, 23, 3, 3.5, 5, 54, True, 'adnan'}"
      ]
     },
     "execution_count": 57,
     "metadata": {},
     "output_type": "execute_result"
    }
   ],
   "source": [
    "s1 = {2,3,5,12,54,23,22,\"adnan\", True,3.5}\n",
    "s1"
   ]
  },
  {
   "cell_type": "code",
   "execution_count": 58,
   "id": "ebaf93b9",
   "metadata": {},
   "outputs": [
    {
     "data": {
      "text/plain": [
       "{12, 2, 22, 23, 3, 3.5, 5, 54, True, 'adnan', 'adnana'}"
      ]
     },
     "execution_count": 58,
     "metadata": {},
     "output_type": "execute_result"
    }
   ],
   "source": [
    "s1.add(\"adnana\")\n",
    "s1"
   ]
  },
  {
   "cell_type": "code",
   "execution_count": 59,
   "id": "3a4be909",
   "metadata": {},
   "outputs": [
    {
     "data": {
      "text/plain": [
       "set"
      ]
     },
     "execution_count": 59,
     "metadata": {},
     "output_type": "execute_result"
    }
   ],
   "source": [
    "type(s1)"
   ]
  },
  {
   "cell_type": "code",
   "execution_count": 63,
   "id": "d6da6d09",
   "metadata": {},
   "outputs": [
    {
     "data": {
      "text/plain": [
       "{12, 22, 23, 3, 3.5, 5, 54, True, 'adnan'}"
      ]
     },
     "execution_count": 63,
     "metadata": {},
     "output_type": "execute_result"
    }
   ],
   "source": [
    "s1.remove(\"adnana\")\n",
    "s1"
   ]
  },
  {
   "cell_type": "code",
   "execution_count": null,
   "id": "9bd6371c",
   "metadata": {},
   "outputs": [],
   "source": []
  }
 ],
 "metadata": {
  "kernelspec": {
   "display_name": "Python 3 (ipykernel)",
   "language": "python",
   "name": "python3"
  },
  "language_info": {
   "codemirror_mode": {
    "name": "ipython",
    "version": 3
   },
   "file_extension": ".py",
   "mimetype": "text/x-python",
   "name": "python",
   "nbconvert_exporter": "python",
   "pygments_lexer": "ipython3",
   "version": "3.10.1"
  }
 },
 "nbformat": 4,
 "nbformat_minor": 5
}
